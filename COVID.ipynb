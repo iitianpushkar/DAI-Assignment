import pandas as pd
import numpy as np
import seaborn as sns
import matplotlib.pyplot as plt

df = pd.read_csv("/content/sample_data/COVID clinical trials.csv")

print("Dataset Info:")
df.info()
print("\nMissing Values:\n")
print(df.isnull().sum())


# Dropping columns with excessive missing values (> 50%)
threshold = len(df) * 0.5
df_cleaned = df.dropna(thresh=threshold, axis=1)

# Filling missing categorical values with "Unknown"
categorical_cols = df_cleaned.select_dtypes(include=['object']).columns
df_cleaned[categorical_cols] = df_cleaned[categorical_cols].fillna("Unknown")

# Filling missing numerical values with median
numerical_cols = df_cleaned.select_dtypes(include=['number']).columns
df_cleaned[numerical_cols] = df_cleaned[numerical_cols].apply(lambda x: x.fillna(x.median()))

# Removing Duplicates
df_cleaned.drop_duplicates(inplace=True)

# Outlier Detection
for col in numerical_cols:
    Q1 = df_cleaned[col].quantile(0.25)
    Q3 = df_cleaned[col].quantile(0.75)
    IQR = Q3 - Q1
    lower_bound = Q1 - 1.5 * IQR
    upper_bound = Q3 + 1.5 * IQR
    df_cleaned[col] = np.where(df_cleaned[col] < lower_bound, lower_bound, df_cleaned[col])
    df_cleaned[col] = np.where(df_cleaned[col] > upper_bound, upper_bound, df_cleaned[col])

# Standardizing categorical values
df_cleaned[categorical_cols] = df_cleaned[categorical_cols].apply(lambda x: x.str.strip().str.lower())

print("Missing values after cleaning\n",df_cleaned.isnull().sum())

# Saving cleaned dataset
df_cleaned.to_csv("cleaned_COVID_clinical_trials.csv", index=False)

# Exploratory Data Analysis (EDA)
# Summary statistics
print("\nSummary Statistics:")
print(df_cleaned.describe())
print("\nMode:")
print(df_cleaned.mode().iloc[0])
print("\nSkewness:")
print(df_cleaned[numerical_cols].skew())

# Frequency distribution for categorical variables
for col in categorical_cols:
    print(f"\nFrequency Distribution for {col}:")
    print(df_cleaned[col].value_counts())

# Univariate Analysis
plt.figure(figsize=(10, 5))
sns.histplot(df_cleaned[numerical_cols[0]], bins=30, kde=True)
plt.title("Histogram of " + numerical_cols[0])
plt.show()

# Box Plot
plt.figure(figsize=(10, 5))
sns.boxplot(x=df_cleaned[numerical_cols[0]])
plt.title("Box Plot of " + numerical_cols[0])
plt.show()

# Bivariate Analysis
# Correlation Matrix
plt.figure(figsize=(10, 8))
sns.heatmap(df_cleaned[numerical_cols].corr(), annot=True, cmap='coolwarm', fmt='.2f')
plt.title("Correlation Matrix")
plt.show()

# Scatter Plot
plt.figure(figsize=(8, 6))
sns.scatterplot(x=df_cleaned[numerical_cols[0]], y=df_cleaned[numerical_cols[1]])
plt.title(f"Scatter Plot between {numerical_cols[0]} and {numerical_cols[1]}")
plt.show()

# Bar Plot for a categorical and numerical variable
plt.figure(figsize=(12, 6))
sns.barplot(x=df_cleaned[categorical_cols[0]], y=df_cleaned[numerical_cols[0]])
plt.xticks(rotation=90)
plt.title(f"Bar Plot of {categorical_cols[0]} vs {numerical_cols[0]}")
plt.show()

# Violin Plot
plt.figure(figsize=(10, 5))
sns.violinplot(x=df_cleaned[categorical_cols[0]], y=df_cleaned[numerical_cols[0]])
plt.xticks(rotation=90)
plt.title(f"Violin Plot of {categorical_cols[0]} vs {numerical_cols[0]}")
plt.show()

# Multivariate Analysis
# Pair Plot
sns.pairplot(df_cleaned[numerical_cols])
plt.show()

# Heatmap for correlation
plt.figure(figsize=(12, 8))
sns.heatmap(df_cleaned[numerical_cols].corr(), annot=True, cmap='coolwarm', fmt='.2f')
plt.title("Heatmap of Correlation Matrix")
plt.show()

# Grouped Comparisons
plt.figure(figsize=(12, 6))
sns.boxplot(x=df_cleaned[categorical_cols[0]], y=df_cleaned[numerical_cols[0]], hue=df_cleaned[categorical_cols[1]])
plt.xticks(rotation=90)
plt.title(f"Box Plot of {categorical_cols[0]} vs {numerical_cols[0]} grouped by {categorical_cols[1]}")
plt.show()


